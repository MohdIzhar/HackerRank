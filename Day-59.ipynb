{
 "cells": [
  {
   "cell_type": "code",
   "execution_count": null,
   "metadata": {},
   "outputs": [],
   "source": [
    "# https://www.hackerrank.com/challenges/sherlock-and-squares/problem\n",
    "\n",
    "# Complete the squares function below.\n",
    "def squares(a, b):\n",
    "    lower = math.ceil(math.sqrt(a))\n",
    "    upper = math.ceil(math.sqrt(b))\n",
    "    cnt = 0\n",
    "    for i in range(lower,upper + 1):\n",
    "        if i**2 in range(a,b+1):\n",
    "            cnt += 1\n",
    "    return cnt\n"
   ]
  },
  {
   "cell_type": "code",
   "execution_count": null,
   "metadata": {},
   "outputs": [],
   "source": [
    "# https://www.hackerrank.com/challenges/balanced-brackets/problem\n",
    "\n",
    "# 3 TEST CASES FAILED\n",
    "\n",
    "# Complete the isBalanced function below.\n",
    "def isBalanced(s):\n",
    "    stack = []\n",
    "    for i in range(0,len(s)):\n",
    "        stack.append(s[i])\n",
    "        if stack[0] in ['}',']',')']:\n",
    "            return \"NO\"\n",
    "        elif (s[i] == ')' and str(stack[-2]) == '('):\n",
    "            stack.pop()\n",
    "            stack.pop()\n",
    "        elif (s[i] == ']' and str(stack[-2]) == '['):\n",
    "            stack.pop()\n",
    "            stack.pop()\n",
    "        elif (s[i] == '}' and str(stack[-2]) == '{'):\n",
    "            stack.pop()\n",
    "            stack.pop()\n",
    "        elif (s[i] == ']' and str(stack[-2]) == '('):\n",
    "            return \"NO\"\n",
    "        elif (s[i] == '}' and str(stack[-2]) == '('):\n",
    "            return \"NO\"    \n",
    "        elif (s[i] == ')' and str(stack[-2]) == '['):\n",
    "            return \"NO\"\n",
    "        elif (s[i] == '}' and str(stack[-2]) == '['):\n",
    "            return \"NO\"\n",
    "        elif (s[i] == ']' and str(stack[-2]) == '{'):\n",
    "            return \"NO\"\n",
    "        elif (s[i] == ')' and str(stack[-2]) == '{'):\n",
    "            return \"NO\"\n",
    "    \n",
    "    if len(stack) == 0:\n",
    "        return \"YES\"\n",
    "        "
   ]
  },
  {
   "cell_type": "code",
   "execution_count": null,
   "metadata": {},
   "outputs": [],
   "source": [
    "# AWESOME Solution from discussion\n",
    "\n",
    "# Complete the isBalanced function below.\n",
    "def isBalanced(s):\n",
    "    stack = []\n",
    "    complete = {')': '(', '}':'{', ']': '['}\n",
    "    for i in range(0,len(s)):\n",
    "        if stack and complete.get(s[i]) == str(stack[-1]):\n",
    "            stack.pop()\n",
    "        else:\n",
    "            stack.append(s[i])        \n",
    "        \n",
    "    if stack:\n",
    "        return \"NO\"\n",
    "    else:\n",
    "        return \"YES\""
   ]
  },
  {
   "cell_type": "code",
   "execution_count": null,
   "metadata": {},
   "outputs": [],
   "source": [
    "# python numpy questions"
   ]
  }
 ],
 "metadata": {
  "kernelspec": {
   "display_name": "Python 3",
   "language": "python",
   "name": "python3"
  },
  "language_info": {
   "codemirror_mode": {
    "name": "ipython",
    "version": 3
   },
   "file_extension": ".py",
   "mimetype": "text/x-python",
   "name": "python",
   "nbconvert_exporter": "python",
   "pygments_lexer": "ipython3",
   "version": "3.6.4"
  }
 },
 "nbformat": 4,
 "nbformat_minor": 2
}
