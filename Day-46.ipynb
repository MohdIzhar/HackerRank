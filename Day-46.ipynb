{
 "cells": [
  {
   "cell_type": "code",
   "execution_count": null,
   "metadata": {},
   "outputs": [],
   "source": [
    "# https://www.hackerrank.com/challenges/np-arrays/problem\n",
    "\n",
    "def arrays(arr):\n",
    "    # complete this function\n",
    "    # use numpy.array\n",
    "    a = numpy.array(arr, dtype=float)\n",
    "    return a[::-1]\n"
   ]
  },
  {
   "cell_type": "code",
   "execution_count": null,
   "metadata": {},
   "outputs": [],
   "source": [
    "# https://www.hackerrank.com/challenges/map-and-lambda-expression/problem\n",
    "\n",
    "cube = lambda x: x**3 # complete the lambda function \n",
    "\n",
    "def fibonacci(n):\n",
    "    # return a list of fibonacci numbers\n",
    "    if n == 0:\n",
    "        return []\n",
    "    elif n == 1:\n",
    "        return [0]\n",
    "    else:\n",
    "        result = []\n",
    "        n1 = 0\n",
    "        n2 = 1\n",
    "        result.append(n1)\n",
    "        result.append(n2)\n",
    "        for i in range(2,n):\n",
    "            n2 = n1 + n2\n",
    "            n1 = n2 - n1\n",
    "            result.append(n2)\n",
    "            \n",
    "        return result"
   ]
  },
  {
   "cell_type": "code",
   "execution_count": null,
   "metadata": {},
   "outputs": [],
   "source": [
    "# https://www.hackerrank.com/challenges/validate-list-of-email-address-with-filter/problem\n",
    "\n",
    "def fun(s):\n",
    "    # return True if s is a valid email, else return False\n",
    "    uname, web = False, False\n",
    "    l = list(s)\n",
    "    at = l.count('@')\n",
    "    dot = l.count('.')\n",
    "    if at == 1 and dot == 1:\n",
    "        username, web = s.split(\"@\")\n",
    "        website, ext = web.split(\".\")\n",
    "        if website.isalnum() and len(ext) <= 3:\n",
    "            web = True\n",
    "            for i in username:\n",
    "                if i.isalpha() or i.isdigit() or i == '_' or i == '-':\n",
    "                    uname = True\n",
    "                else:\n",
    "                    return False\n",
    "            if uname and web:\n",
    "                return True                    \n",
    "        else:\n",
    "            return False\n",
    "    else:\n",
    "        return False\n",
    "\n",
    "def filter_mail(emails):\n",
    "    return list(filter(fun, emails))\n",
    "\n",
    "#########################\n",
    "# A discussion solution #\n",
    "#########################\n",
    "\n",
    "def check_valid(email):\n",
    "    try:\n",
    "        username, url = email.split(\"@\")\n",
    "        website, extension = url.split(\".\")\n",
    "    except ValueError:\n",
    "        return False\n",
    "    \n",
    "    if not username.replace(\"-\", \"\").replace(\"_\", \"\").isalnum():\n",
    "        return False\n",
    "    if not website.isalnum():\n",
    "        return False\n",
    "    if len(extension) > 3:\n",
    "        return False\n",
    "    return True\n",
    "\n",
    "n = int(input())\n",
    "emails = [input() for email in range(n)]\n",
    "\n",
    "valid = list(filter(check_valid, emails))\n",
    "print(sorted(valid))"
   ]
  },
  {
   "cell_type": "code",
   "execution_count": null,
   "metadata": {},
   "outputs": [],
   "source": [
    "print((-7) // 2)\n",
    "print((-7) % 3)\n",
    "from decimal import Decimal\n",
    "print(Decimal(-7) // Decimal(2))\n",
    "print(Decimal(-7) % Decimal(3))\n",
    "\n",
    "print(0.8 - 0.7)\n",
    "print(Decimal(0.8) - Decimal(0.7))\n",
    "print(Decimal('0.8') - Decimal('0.7'))"
   ]
  }
 ],
 "metadata": {
  "kernelspec": {
   "display_name": "Python 3",
   "language": "python",
   "name": "python3"
  },
  "language_info": {
   "codemirror_mode": {
    "name": "ipython",
    "version": 3
   },
   "file_extension": ".py",
   "mimetype": "text/x-python",
   "name": "python",
   "nbconvert_exporter": "python",
   "pygments_lexer": "ipython3",
   "version": "3.6.4"
  }
 },
 "nbformat": 4,
 "nbformat_minor": 2
}
