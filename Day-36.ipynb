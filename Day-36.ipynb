{
 "cells": [
  {
   "cell_type": "code",
   "execution_count": null,
   "metadata": {},
   "outputs": [],
   "source": [
    "# https://www.hackerrank.com/challenges/py-set-mutations/problem\n",
    "\n",
    "# Enter your code here. Read input from STDIN. Print output to STDOUT\n",
    "n = int(input())\n",
    "arr = set(map(int,input().strip().split()))\n",
    "m = int(input())\n",
    "for i in range(m):\n",
    "    cmd = input().split()\n",
    "    new_arr = set(map(int,input().strip().split()))\n",
    "\n",
    "    if cmd[0] == \"intersection_update\":\n",
    "        arr.intersection_update(new_arr)\n",
    "    elif cmd[0] == \"update\":\n",
    "        arr.update(new_arr)\n",
    "    elif cmd[0] == \"symmetric_difference_update\":\n",
    "        arr.symmetric_difference_update(new_arr)\n",
    "    elif cmd[0] == \"difference_update\":\n",
    "        arr.difference_update(new_arr)\n",
    "    else:\n",
    "        pass\n",
    "print(sum(arr))"
   ]
  }
 ],
 "metadata": {
  "kernelspec": {
   "display_name": "Python 3",
   "language": "python",
   "name": "python3"
  },
  "language_info": {
   "codemirror_mode": {
    "name": "ipython",
    "version": 3
   },
   "file_extension": ".py",
   "mimetype": "text/x-python",
   "name": "python",
   "nbconvert_exporter": "python",
   "pygments_lexer": "ipython3",
   "version": "3.6.4"
  }
 },
 "nbformat": 4,
 "nbformat_minor": 2
}
