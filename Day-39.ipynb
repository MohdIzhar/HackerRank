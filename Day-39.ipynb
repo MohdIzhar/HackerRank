{
 "cells": [
  {
   "cell_type": "code",
   "execution_count": null,
   "metadata": {},
   "outputs": [],
   "source": [
    "# https://www.hackerrank.com/challenges/py-check-strict-superset/problem\n",
    "\n",
    "superset = set(map(int, input().strip().split()))\n",
    "for i in range(int(input())):\n",
    "    s = set(map(int, input().strip().split()))\n",
    "    result = superset.issuperset(s)\n",
    "    if result == False:\n",
    "        break\n",
    "print(result)"
   ]
  },
  {
   "cell_type": "code",
   "execution_count": null,
   "metadata": {},
   "outputs": [],
   "source": [
    "# https://www.hackerrank.com/challenges/the-hurdle-race/problem\n",
    "\n",
    "\n",
    "def hurdleRace(k, height):\n",
    "    maxHeight = max(height)\n",
    "    if maxHeight < k:\n",
    "        return 0\n",
    "    else:\n",
    "        doze = maxHeight - k\n",
    "        return doze\n"
   ]
  },
  {
   "cell_type": "code",
   "execution_count": null,
   "metadata": {},
   "outputs": [],
   "source": [
    "# https://www.hackerrank.com/challenges/designer-pdf-viewer/problem\n",
    "\n",
    "def designerPdfViewer(h, word):\n",
    "    t = tuple(chr(i).lower() for i in range(65,91))\n",
    "    l = len(word)\n",
    "    mx = 0\n",
    "    for c in word:\n",
    "        value = h[t.index(c)]\n",
    "        if mx < value:\n",
    "            mx = value\n",
    "\n",
    "    return l * mx"
   ]
  },
  {
   "cell_type": "code",
   "execution_count": null,
   "metadata": {},
   "outputs": [],
   "source": [
    "# https://www.hackerrank.com/challenges/utopian-tree/problem\n",
    "\n",
    "def utopianTree(n):\n",
    "    cycle = 0\n",
    "    height = 1\n",
    "    for i in range(1,n+1):\n",
    "        if cycle != 2:\n",
    "            height += 1\n",
    "        elif cycle == 2:\n",
    "            height += height\n",
    "            cycle = 0\n",
    "        cycle += 1        \n",
    "\n",
    "    return height\n"
   ]
  },
  {
   "cell_type": "code",
   "execution_count": null,
   "metadata": {},
   "outputs": [],
   "source": [
    "# https://www.hackerrank.com/challenges/java-datatypes/problem\n",
    "\n",
    "# JAVA\n",
    "\n",
    "#  //Complete the code\n",
    "                if(x>=-32768 && x<=32767)System.out.println(\"* short\");\n",
    "                if(x>=-(Integer.MAX_VALUE+1) && x<=Integer.MAX_VALUE)System.out.println(\"* int\");\n",
    "                if(x>=-(Long.MAX_VALUE+1) && x<=Long.MAX_VALUE)System.out.println(\"* long\");"
   ]
  }
 ],
 "metadata": {
  "kernelspec": {
   "display_name": "Python 3",
   "language": "python",
   "name": "python3"
  },
  "language_info": {
   "codemirror_mode": {
    "name": "ipython",
    "version": 3
   },
   "file_extension": ".py",
   "mimetype": "text/x-python",
   "name": "python",
   "nbconvert_exporter": "python",
   "pygments_lexer": "ipython3",
   "version": "3.6.4"
  }
 },
 "nbformat": 4,
 "nbformat_minor": 2
}
