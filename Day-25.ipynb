{
 "cells": [
  {
   "cell_type": "code",
   "execution_count": null,
   "metadata": {},
   "outputs": [],
   "source": [
    "# https://www.hackerrank.com/challenges/symmetric-difference/problem\n",
    "\n",
    "# Enter your code here. Read input from STDIN. Print output to STDOUT\n",
    "m = int(input())\n",
    "s1 = set(map(int,input().split()))\n",
    "n = int(input())\n",
    "s2 = set(map(int,input().split()))\n",
    "\n",
    "result = []\n",
    "d1 = s1.difference(s2)\n",
    "d2 = s2.difference(s1)\n",
    "\n",
    "for i in d1:\n",
    "    result.append(i)\n",
    "\n",
    "for j in d2:\n",
    "    result.append(j)\n",
    "    \n",
    "for s in sorted(result):\n",
    "    print(s)\n",
    "    "
   ]
  },
  {
   "cell_type": "code",
   "execution_count": null,
   "metadata": {},
   "outputs": [],
   "source": [
    "# https://www.hackerrank.com/challenges/py-set-add/problem\n",
    "\n",
    "# Enter your code here. Read input from STDIN. Print output to STDOUT\n",
    "s = set()\n",
    "for i in range(int(input())):\n",
    "    inp = input()\n",
    "    if inp not in s:\n",
    "        s.add(inp)\n",
    "print(len(s))\n"
   ]
  },
  {
   "cell_type": "code",
   "execution_count": null,
   "metadata": {},
   "outputs": [],
   "source": [
    "# https://www.hackerrank.com/challenges/magic-square-forming/problem\n"
   ]
  }
 ],
 "metadata": {
  "kernelspec": {
   "display_name": "Python 3",
   "language": "python",
   "name": "python3"
  },
  "language_info": {
   "codemirror_mode": {
    "name": "ipython",
    "version": 3
   },
   "file_extension": ".py",
   "mimetype": "text/x-python",
   "name": "python",
   "nbconvert_exporter": "python",
   "pygments_lexer": "ipython3",
   "version": "3.6.4"
  }
 },
 "nbformat": 4,
 "nbformat_minor": 2
}
