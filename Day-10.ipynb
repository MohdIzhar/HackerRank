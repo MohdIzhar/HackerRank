{
 "cells": [
  {
   "cell_type": "code",
   "execution_count": null,
   "metadata": {},
   "outputs": [],
   "source": [
    "# https://www.hackerrank.com/challenges/python-string-formatting/\n",
    "def print_formatted(number):\n",
    "    for i in range(1,number+1):\n",
    "        l=len('{0:b}'.format(number))\n",
    "        l=int(l)\n",
    "        print('{0:{width}d} {0:{width}o} {0:{width}X} {0:{width}b}'.format(i,width=l))\n",
    "    # your code goes here\n",
    "\n",
    "if __name__ == '__main__':"
   ]
  },
  {
   "cell_type": "code",
   "execution_count": null,
   "metadata": {},
   "outputs": [],
   "source": [
    "# MEDIUM"
   ]
  },
  {
   "cell_type": "code",
   "execution_count": null,
   "metadata": {},
   "outputs": [],
   "source": [
    "# https://www.hackerrank.com/challenges/merge-the-tools/problem\n",
    "def merge_the_tools(string, k):\n",
    "    # your code goes here\n",
    "    l = []\n",
    "    for i in range(0,len(string),k):\n",
    "        l.append(string[i:i+k])\n",
    "    for j in range(len(l)):\n",
    "        new_list = list(l[j])\n",
    "        p = []\n",
    "        for e in range(len(new_list)):\n",
    "            if new_list[e] not in p:\n",
    "                p.append(new_list[e])\n",
    "                \n",
    "        l[j] = \"\".join(p) \n",
    "    for element in l:\n",
    "        print(element)\n",
    "\n",
    "if __name__ == '__main__':\n",
    "    string, k = input(), int(input())\n",
    "    merge_the_tools(string, k)"
   ]
  },
  {
   "cell_type": "code",
   "execution_count": null,
   "metadata": {},
   "outputs": [],
   "source": [
    "https://www.hackerrank.com/challenges/no-idea/problem"
   ]
  },
  {
   "cell_type": "code",
   "execution_count": null,
   "metadata": {},
   "outputs": [],
   "source": [
    "# Enter your code here. Read input from STDIN. Print output to STDOUT\n",
    "n,m = map(int, input().strip().split())\n",
    "\n",
    "ar = list(map(int,input().strip().split()))\n",
    "A = list(map(int,input().strip().split()))\n",
    "B = list(map(int,input().strip().split()))\n",
    "\n",
    "happiness = 0\n",
    "\n",
    "d1 = set(A).difference(set(B))\n",
    "d2 = set(B).difference(set(A))\n",
    "for i in ar:\n",
    "    if i in d1:\n",
    "        happiness += 1\n",
    "for i in ar:\n",
    "    if i in d2:\n",
    "        happiness -= 1\n",
    "print(happiness)\n"
   ]
  },
  {
   "cell_type": "code",
   "execution_count": null,
   "metadata": {},
   "outputs": [],
   "source": [
    "# https://www.hackerrank.com/challenges/word-order/problem"
   ]
  },
  {
   "cell_type": "code",
   "execution_count": null,
   "metadata": {},
   "outputs": [],
   "source": []
  }
 ],
 "metadata": {
  "kernelspec": {
   "display_name": "Python 3",
   "language": "python",
   "name": "python3"
  },
  "language_info": {
   "codemirror_mode": {
    "name": "ipython",
    "version": 3
   },
   "file_extension": ".py",
   "mimetype": "text/x-python",
   "name": "python",
   "nbconvert_exporter": "python",
   "pygments_lexer": "ipython3",
   "version": "3.6.4"
  }
 },
 "nbformat": 4,
 "nbformat_minor": 2
}
