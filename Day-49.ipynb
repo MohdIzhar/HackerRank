{
 "cells": [
  {
   "cell_type": "code",
   "execution_count": null,
   "metadata": {},
   "outputs": [],
   "source": [
    "# https://www.hackerrank.com/challenges/permutation-equation/problem\n",
    "\n",
    "# Complete the permutationEquation function below.\n",
    "def permutationEquation(p):\n",
    "    d = {v: i + 1 for i,v in enumerate(p)}\n",
    "    x = range(1,len(p) + 1)\n",
    "    result = []\n",
    "    for i in x:\n",
    "        result.append(d.get(d.get(i)))\n",
    "    return result"
   ]
  },
  {
   "cell_type": "code",
   "execution_count": null,
   "metadata": {},
   "outputs": [],
   "source": [
    "# https://www.hackerrank.com/challenges/jumping-on-the-clouds-revisited/problem\n",
    "\n",
    "# Complete the jumpingOnClouds function below.\n",
    "def jumpingOnClouds(c, k):\n",
    "    # energy \n",
    "    e = 100\n",
    "    n = len(c)\n",
    "    i = 0\n",
    "    while i != 0 or e == 100:\n",
    "        i = (i + k) % n\n",
    "        if c[i] == 1:\n",
    "            e -= 3\n",
    "        else:\n",
    "            e -= 1\n",
    "            \n",
    "    return e\n"
   ]
  },
  {
   "cell_type": "code",
   "execution_count": null,
   "metadata": {},
   "outputs": [],
   "source": []
  }
 ],
 "metadata": {
  "kernelspec": {
   "display_name": "Python 3",
   "language": "python",
   "name": "python3"
  },
  "language_info": {
   "codemirror_mode": {
    "name": "ipython",
    "version": 3
   },
   "file_extension": ".py",
   "mimetype": "text/x-python",
   "name": "python",
   "nbconvert_exporter": "python",
   "pygments_lexer": "ipython3",
   "version": "3.6.4"
  }
 },
 "nbformat": 4,
 "nbformat_minor": 2
}
