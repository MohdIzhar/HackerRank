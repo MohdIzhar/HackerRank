{
 "cells": [
  {
   "cell_type": "code",
   "execution_count": null,
   "metadata": {},
   "outputs": [],
   "source": [
    "# https://www.hackerrank.com/challenges/collections-counter/problem\n",
    "# Enter your code here. Read input from STDIN. Print output to STDOUT\n",
    "import collections\n",
    "\n",
    "def shop(customer_demand,shoe_size,n):\n",
    "    cnt  = dict(collections.Counter(shoe_size))\n",
    "    money = 0\n",
    "    for i in range(len(customer_demand)):\n",
    "        if customer_demand[i][0] in cnt.keys() and cnt.get(customer_demand[i][0]) > 0:\n",
    "            money = money + customer_demand[i][1]\n",
    "            if cnt.get(customer_demand[i][0]) > 0:\n",
    "                cnt[customer_demand[i][0]] = cnt.get(customer_demand[i][0]) - 1\n",
    "            else:\n",
    "                cnt[customer_demand[i][0]]\n",
    "\n",
    "    return money\n",
    "\n",
    "if __name__ == \"__main__\":\n",
    "    n = int(input())\n",
    "    shoe_size = list(map(int, input().strip().split()))\n",
    "    customer = int(input())\n",
    "    customer_demand = []\n",
    "    for i in range(customer):\n",
    "        customer_demand.append(list(map(int, input().strip().split())))\n",
    "    \n",
    "    print(shop(customer_demand,shoe_size,n))\n"
   ]
  }
 ],
 "metadata": {
  "kernelspec": {
   "display_name": "Python 3",
   "language": "python",
   "name": "python3"
  },
  "language_info": {
   "codemirror_mode": {
    "name": "ipython",
    "version": 3
   },
   "file_extension": ".py",
   "mimetype": "text/x-python",
   "name": "python",
   "nbconvert_exporter": "python",
   "pygments_lexer": "ipython3",
   "version": "3.6.4"
  }
 },
 "nbformat": 4,
 "nbformat_minor": 2
}
