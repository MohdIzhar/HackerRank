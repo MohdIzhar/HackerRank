{
 "cells": [
  {
   "cell_type": "code",
   "execution_count": null,
   "metadata": {},
   "outputs": [],
   "source": [
    "# CODE SIGNAL :- \n",
    "\n",
    "def firstNotRepeatingCharacter(s):\n",
    "    l = list(s)\n",
    "    non_repeating = [i for i,v in enumerate(l) if l.count(v) == 1]\n",
    "    if len(non_repeating) >= 1:\n",
    "        return s[non_repeating[0]]\n",
    "    else:\n",
    "        return '_'\n",
    "            "
   ]
  }
 ],
 "metadata": {
  "kernelspec": {
   "display_name": "Python 3",
   "language": "python",
   "name": "python3"
  },
  "language_info": {
   "codemirror_mode": {
    "name": "ipython",
    "version": 3
   },
   "file_extension": ".py",
   "mimetype": "text/x-python",
   "name": "python",
   "nbconvert_exporter": "python",
   "pygments_lexer": "ipython3",
   "version": "3.6.4"
  }
 },
 "nbformat": 4,
 "nbformat_minor": 2
}
