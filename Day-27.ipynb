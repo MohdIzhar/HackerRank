{
 "cells": [
  {
   "cell_type": "code",
   "execution_count": null,
   "metadata": {},
   "outputs": [],
   "source": [
    "# https://www.hackerrank.com/challenges/py-set-discard-remove-pop/problem\n",
    "\n",
    "n = int(input())\n",
    "s = set(map(int, input().split()))\n",
    "N = int(input())\n",
    "for command in range(N):\n",
    "    cmd = input().strip().split()\n",
    "    \n",
    "    if cmd[0] == \"pop\" and len(cmd) == 1:\n",
    "        s.pop()\n",
    "\n",
    "    elif cmd[0] == \"pop\":\n",
    "        try:\n",
    "            s.pop(int(cmd[1]))\n",
    "        except KeyError:\n",
    "            continue\n",
    "\n",
    "    elif cmd[0] == \"remove\":\n",
    "        try:\n",
    "            s.remove(int(cmd[1]))\n",
    "        except KeyError:\n",
    "            continue\n",
    "\n",
    "    elif cmd[0] == \"discard\":\n",
    "        s.discard(int(cmd[1]))\n",
    "\n",
    "    else:\n",
    "        continue\n",
    "\n",
    "print(sum(s))\n",
    "        "
   ]
  },
  {
   "cell_type": "code",
   "execution_count": null,
   "metadata": {},
   "outputs": [],
   "source": [
    "# https://www.hackerrank.com/challenges/py-set-union/problem\n",
    "\n",
    "# Enter your code here. Read input from STDIN. Print output to STDOUT\n",
    "\n",
    "def totalStudent(english, french):\n",
    "    return len(set(english).union(set(french)))\n",
    "\n",
    "\n",
    "if __name__ == \"__main__\":\n",
    "    e = int(input())\n",
    "    eng = input().strip().split()\n",
    "    f = int(input())\n",
    "    fre = input().strip().split()\n",
    "    print(totalStudent(eng, fre))"
   ]
  },
  {
   "cell_type": "code",
   "execution_count": null,
   "metadata": {},
   "outputs": [],
   "source": [
    "# https://www.hackerrank.com/challenges/climbing-the-leaderboard/problem\n",
    "\n"
   ]
  }
 ],
 "metadata": {
  "kernelspec": {
   "display_name": "Python 3",
   "language": "python",
   "name": "python3"
  },
  "language_info": {
   "codemirror_mode": {
    "name": "ipython",
    "version": 3
   },
   "file_extension": ".py",
   "mimetype": "text/x-python",
   "name": "python",
   "nbconvert_exporter": "python",
   "pygments_lexer": "ipython3",
   "version": "3.6.4"
  }
 },
 "nbformat": 4,
 "nbformat_minor": 2
}
