{
 "cells": [
  {
   "cell_type": "code",
   "execution_count": null,
   "metadata": {},
   "outputs": [],
   "source": [
    "# https://www.hackerrank.com/challenges/java-end-of-file/problem\n",
    "\n",
    "public class Solution {\n",
    "\n",
    "    public static void main(String[] args) {\n",
    "        /* Enter your code here. Read input from STDIN. Print output to STDOUT. Your class should be named Solution. */\n",
    "    Scanner sc = new Scanner(System.in);\n",
    "    int i = 1;\n",
    "    while(sc.hasNext()){\n",
    "    System.out.println(i + \" \" + sc.nextLine());\n",
    "    i += 1;\n",
    "    }\n",
    "    }\n",
    "}"
   ]
  },
  {
   "cell_type": "code",
   "execution_count": null,
   "metadata": {},
   "outputs": [],
   "source": [
    "# https://www.hackerrank.com/challenges/java-static-initializer-block/problem\n",
    "\n",
    "public class Solution {\n",
    "\n",
    "// Write your code here\n",
    "    static boolean flag;\n",
    "    static int B;\n",
    "    static int H;\n",
    "static{\n",
    "    Scanner sc = new Scanner(System.in);\n",
    "    B = sc.nextInt();\n",
    "    H = sc.nextInt();\n",
    "    flag = false;\n",
    "    if (B <= 0 || H <= 0){\n",
    "        System.out.println(\"java.lang.Exception: Breadth and height must be positive\");\n",
    "    }\n",
    "    else{\n",
    "        flag = true;\n",
    "    }\n",
    "}\n",
    "\n",
    "public static void main(String[] args){\n",
    "\t\tif(flag){\n",
    "\t\t\tint area=B*H;\n",
    "\t\t\tSystem.out.print(area);\n",
    "\t\t}\n",
    "\t\t\n",
    "\t}//end of main\n",
    "\n",
    "}//end of class\n"
   ]
  },
  {
   "cell_type": "code",
   "execution_count": null,
   "metadata": {},
   "outputs": [],
   "source": [
    "# https://www.hackerrank.com/challenges/python-quest-1/problem\n",
    "\n",
    "print((10**(i)//9)*i)"
   ]
  }
 ],
 "metadata": {
  "kernelspec": {
   "display_name": "Python 3",
   "language": "python",
   "name": "python3"
  },
  "language_info": {
   "codemirror_mode": {
    "name": "ipython",
    "version": 3
   },
   "file_extension": ".py",
   "mimetype": "text/x-python",
   "name": "python",
   "nbconvert_exporter": "python",
   "pygments_lexer": "ipython3",
   "version": "3.6.4"
  }
 },
 "nbformat": 4,
 "nbformat_minor": 2
}
