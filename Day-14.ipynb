{
 "cells": [
  {
   "cell_type": "code",
   "execution_count": null,
   "metadata": {},
   "outputs": [],
   "source": [
    "# https://www.hackerrank.com/challenges/itertools-product/problem\n",
    "\n",
    "# Enter your code here. Read input from STDIN. Print output to STDOUT\n",
    "from itertools import product\n",
    "\n",
    "A = list(map(int,input().strip().split()))\n",
    "B = list(map(int,input().strip().split()))\n",
    "\n",
    "prod = sorted(set(product(A,B)))\n",
    "result = []\n",
    "for i in prod:\n",
    "    result.append(str(i))\n",
    "print(\" \".join(result))"
   ]
  },
  {
   "cell_type": "code",
   "execution_count": null,
   "metadata": {},
   "outputs": [],
   "source": [
    "# https://www.hackerrank.com/challenges/itertools-permutations/problem\n",
    "\n",
    "# Enter your code here. Read input from STDIN. Print output to STDOUT\n",
    "\n",
    "import itertools\n",
    "\n",
    "inp = input().split()\n",
    "perm = sorted(list(itertools.permutations(inp[0],int(inp[1]))))\n",
    "for i in perm:\n",
    "    print(\"\".join(i[:]))"
   ]
  },
  {
   "cell_type": "code",
   "execution_count": null,
   "metadata": {},
   "outputs": [],
   "source": [
    "# https://www.hackerrank.com/challenges/itertools-combinations/problem\n",
    "\n",
    "# Enter your code here. Read input from STDIN. Print output to STDOUT\n",
    "\n",
    "import itertools\n",
    "\n",
    "inp = input().split()\n",
    "\n",
    "for i in range(1,int(inp[1])+1):\n",
    "    perm = list(itertools.combinations(sorted(list(inp[0])),i))\n",
    "    for i in perm:\n",
    "        print(\"\".join(i))"
   ]
  },
  {
   "cell_type": "code",
   "execution_count": null,
   "metadata": {},
   "outputs": [],
   "source": [
    "# https://www.hackerrank.com/challenges/itertools-combinations-with-replacement/problem\n",
    "\n",
    "# Enter your code here. Read input from STDIN. Print output to STDOUT\n",
    "\n",
    "import itertools\n",
    "\n",
    "inp = input().split()\n",
    "perm = sorted(list(itertools.combinations_with_replacement(sorted(list(inp[0])),int(inp[1]))))\n",
    "for i in perm:\n",
    "    print(\"\".join(i[:]))"
   ]
  },
  {
   "cell_type": "code",
   "execution_count": null,
   "metadata": {},
   "outputs": [],
   "source": [
    "# https://www.hackerrank.com/challenges/compress-the-string/problem\n",
    "\n",
    "from itertools import groupby\n",
    "\n",
    "io = input()\n",
    "for i,j in groupby(map(int,list(io))):\n",
    "    print(tuple([len(list(j)), i]) ,end = \" \")\n"
   ]
  },
  {
   "cell_type": "code",
   "execution_count": null,
   "metadata": {},
   "outputs": [],
   "source": [
    "# Preparation Kit\n",
    "\n",
    "# https://www.hackerrank.com/challenges/jumping-on-the-clouds/problem"
   ]
  },
  {
   "cell_type": "code",
   "execution_count": null,
   "metadata": {},
   "outputs": [],
   "source": [
    "# https://www.hackerrank.com/challenges/repeated-string/problem\n",
    "\n",
    "#!/bin/python3\n",
    "\n",
    "import math\n",
    "import os\n",
    "import random\n",
    "import re\n",
    "import sys\n",
    "\n",
    "# Complete the repeatedString function below.\n",
    "def repeatedString(s, n):\n",
    "    cnt = 0\n",
    "    for i in range(len(s)):\n",
    "        if s[i] == 'a':\n",
    "            cnt += 1\n",
    "    cnt = cnt * (n // len(s))\n",
    "    rem = n % len(s) \n",
    "    for j in range(rem):\n",
    "        if s[j] == 'a':\n",
    "            cnt += 1\n",
    "            \n",
    "    return cnt\n",
    "\n",
    "    \n",
    "\n",
    "if __name__ == '__main__':\n",
    "    fptr = open(os.environ['OUTPUT_PATH'], 'w')\n",
    "\n",
    "    s = input()\n",
    "\n",
    "    n = int(input())\n",
    "\n",
    "    result = repeatedString(s, n)\n",
    "\n",
    "    fptr.write(str(result) + '\\n')\n",
    "\n",
    "    fptr.close()\n"
   ]
  }
 ],
 "metadata": {
  "kernelspec": {
   "display_name": "Python 3",
   "language": "python",
   "name": "python3"
  },
  "language_info": {
   "codemirror_mode": {
    "name": "ipython",
    "version": 3
   },
   "file_extension": ".py",
   "mimetype": "text/x-python",
   "name": "python",
   "nbconvert_exporter": "python",
   "pygments_lexer": "ipython3",
   "version": "3.6.4"
  }
 },
 "nbformat": 4,
 "nbformat_minor": 2
}
