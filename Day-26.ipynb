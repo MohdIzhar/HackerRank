{
 "cells": [
  {
   "cell_type": "code",
   "execution_count": null,
   "metadata": {},
   "outputs": [],
   "source": [
    "# https://www.hackerrank.com/challenges/incorrect-regex/problem\n",
    "\n",
    "def isValid(s):\n",
    "    try:\n",
    "        re.compile(s)\n",
    "    except re.error:\n",
    "        return False\n",
    "    return True\n",
    "\n",
    "if __name__ == \"__main__\":\n",
    "    import re\n",
    "    for i in range(int(input())):\n",
    "        regex = input()\n",
    "        print(isValid(regex))\n"
   ]
  },
  {
   "cell_type": "code",
   "execution_count": null,
   "metadata": {},
   "outputs": [],
   "source": [
    "# https://www.hackerrank.com/challenges/picking-numbers\n",
    "\n",
    "#!/bin/python3\n",
    "\n",
    "import math\n",
    "import os\n",
    "import random\n",
    "import re\n",
    "import sys\n",
    "\n",
    "#\n",
    "# Complete the 'pickingNumbers' function below.\n",
    "#\n",
    "# The function is expected to return an INTEGER.\n",
    "# The function accepts INTEGER_ARRAY a as parameter.\n",
    "#\n",
    "\n",
    "def pickingNumbers(a):\n",
    "    # Write your code here\n",
    "    d = {}\n",
    "    for i in a:\n",
    "        if i not in d:\n",
    "            d[i] = 1\n",
    "        else:\n",
    "            d[i] += 1\n",
    "\n",
    "    k = sorted(d.keys())\n",
    "    v = max(sorted(d.values()))\n",
    "    max_value = 0\n",
    "    if len(d) > 1:\n",
    "        for i in range(1,len(k)):\n",
    "            if abs(k[i - 1] - k[i]) <= 1:\n",
    "                if max_value < d[k[i - 1]] + d[k[i]]:\n",
    "                    max_value = d[k[i - 1]] + d[k[i]]\n",
    "        \n",
    "        if max_value > v:\n",
    "            return max_value\n",
    "        else:\n",
    "            return v\n",
    "    else:\n",
    "        return d[k[0]]\n",
    "\n",
    "if __name__ == '__main__':\n",
    "    fptr = open(os.environ['OUTPUT_PATH'], 'w')\n",
    "\n",
    "    n = int(input().strip())\n",
    "\n",
    "    a = list(map(int, input().rstrip().split()))\n",
    "\n",
    "    result = pickingNumbers(a)\n",
    "\n",
    "    fptr.write(str(result) + '\\n')\n",
    "\n",
    "    fptr.close()\n"
   ]
  },
  {
   "cell_type": "code",
   "execution_count": 3,
   "metadata": {},
   "outputs": [
    {
     "name": "stdout",
     "output_type": "stream",
     "text": [
      "defaultdict(<class 'int'>, {4: 1, 5: 1, 3: 2, 6: 1, 7: 0, 2: 0, 1: 1, 0: 0})\n",
      "3\n",
      "defaultdict(<class 'int'>, {4: 24, 5: 25, 3: 0, 97: 50, 98: 0, 96: 0, 6: 0, 99: 1, 100: 0})\n",
      "50\n"
     ]
    }
   ],
   "source": [
    "# Copied Solution\n",
    "\n",
    "from collections import defaultdict\n",
    " \n",
    "def pickingNumbers(a):\n",
    "    d = defaultdict(int)\n",
    "    r_val = 0\n",
    "    for val in a:\n",
    "        d[val] += 1\n",
    "        r_val = max(r_val, d[val]+d[val+1], d[val]+d[val-1])\n",
    "    print(d)\n",
    "    return r_val\n",
    "\n",
    "print(pickingNumbers([4, 6, 5, 3, 3, 1]))\n",
    "\n",
    "\n",
    "l = [4, 97, 5, 97, 97, 4, 97, 4, 97, 97, 97, 97, 4, 4, 5, 5, 97, 5, 97, 99, 4, 97, 5, 97, 97, 97, 5, 5, 97, 4, 5, 97, 97, 5, 97, 4, 97, 5, 4, 4, 97, 5, 5, 5, 4, 97, 97, 4,97, 5, 4, 4, 97, 97, 97, 5, 5, 97, 4, 97, 97, 5, 4, 97, 97, 4, 97, 97, 97, 5, 4, 4, 97, 4, 4, 97, 5,\n",
    "97, 97, 97, 97, 4, 97, 5, 97, 5, 4, 97, 4, 5, 97, 97, 5, 97, 5, 97, 5, 97, 97, 97]\n",
    "\n",
    "print(pickingNumbers(l))"
   ]
  },
  {
   "cell_type": "code",
   "execution_count": null,
   "metadata": {},
   "outputs": [],
   "source": [
    "# https://www.hackerrank.com/challenges/climbing-the-leaderboard/problem\n",
    "\n",
    "# Memory exceed or Time limit\n",
    "\n",
    "def climbingLeaderboard(ranked, player):\n",
    "    # Write your code here\n",
    "    rank = list(set(ranked))\n",
    "    result = []\n",
    "    for p in player:\n",
    "        if p not in rank:\n",
    "            rank.append(p)\n",
    "        rank = sorted(rank, reverse = True)\n",
    "        result.append(rank.index(p)+1)\n",
    "    return result"
   ]
  },
  {
   "cell_type": "code",
   "execution_count": null,
   "metadata": {},
   "outputs": [],
   "source": []
  }
 ],
 "metadata": {
  "kernelspec": {
   "display_name": "Python 3",
   "language": "python",
   "name": "python3"
  },
  "language_info": {
   "codemirror_mode": {
    "name": "ipython",
    "version": 3
   },
   "file_extension": ".py",
   "mimetype": "text/x-python",
   "name": "python",
   "nbconvert_exporter": "python",
   "pygments_lexer": "ipython3",
   "version": "3.6.4"
  }
 },
 "nbformat": 4,
 "nbformat_minor": 2
}
