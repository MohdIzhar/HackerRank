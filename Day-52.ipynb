{
 "cells": [
  {
   "cell_type": "code",
   "execution_count": 3,
   "metadata": {},
   "outputs": [
    {
     "name": "stdout",
     "output_type": "stream",
     "text": [
      "['a', 'b', 'e']\n"
     ]
    }
   ],
   "source": [
    "# https://www.hackerrank.com/challenges/sherlock-and-valid-string/problem\n",
    "\n",
    "# TEST CASES PASSED :-> 17/20\n",
    "\n",
    "#  Complete the isValid function below.\n",
    "def isValid(s):\n",
    "    if len(s) == 1:\n",
    "        return \"YES\"\n",
    "    else:\n",
    "        d1 = {}\n",
    "        for i in s:\n",
    "            d1[i] = d1.get(i,0) + 1\n",
    "        d2 = {}\n",
    "        for k,v in d1.items():\n",
    "            d2.setdefault(v,[]).append(k)\n",
    "        print(d1)\n",
    "        print(d2)\n",
    "        v = d2.values()\n",
    "        if len(v) != 2:\n",
    "            return \"NO\"\n",
    "        else:\n",
    "            valid = \"NO\"\n",
    "            \n",
    "            for i in v:\n",
    "                if len(i) == 1:\n",
    "                    valid = \"YES\"\n",
    "                    \n",
    "            return valid"
   ]
  },
  {
   "cell_type": "code",
   "execution_count": 1,
   "metadata": {},
   "outputs": [
    {
     "data": {
      "text/plain": [
       "0"
      ]
     },
     "execution_count": 1,
     "metadata": {},
     "output_type": "execute_result"
    }
   ],
   "source": [
    "d = {2: 4, 3: 1}\n",
    "d.get(1,0)"
   ]
  },
  {
   "cell_type": "code",
   "execution_count": 2,
   "metadata": {},
   "outputs": [
    {
     "data": {
      "text/plain": [
       "dict_keys([2, 3])"
      ]
     },
     "execution_count": 2,
     "metadata": {},
     "output_type": "execute_result"
    }
   ],
   "source": [
    "d.keys()"
   ]
  },
  {
   "cell_type": "code",
   "execution_count": null,
   "metadata": {},
   "outputs": [],
   "source": []
  }
 ],
 "metadata": {
  "kernelspec": {
   "display_name": "Python 3",
   "language": "python",
   "name": "python3"
  },
  "language_info": {
   "codemirror_mode": {
    "name": "ipython",
    "version": 3
   },
   "file_extension": ".py",
   "mimetype": "text/x-python",
   "name": "python",
   "nbconvert_exporter": "python",
   "pygments_lexer": "ipython3",
   "version": "3.6.4"
  }
 },
 "nbformat": 4,
 "nbformat_minor": 2
}
