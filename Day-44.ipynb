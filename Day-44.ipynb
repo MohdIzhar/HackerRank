{
 "cells": [
  {
   "cell_type": "code",
   "execution_count": null,
   "metadata": {},
   "outputs": [],
   "source": [
    "# https://www.hackerrank.com/challenges/ctci-ransom-note/problem\n",
    "\n",
    "# Complete the checkMagazine function below.\n",
    "def checkMagazine(magazine, note):\n",
    "    m = {}\n",
    "    for i in magazine:\n",
    "        m[i] = m.get(i,0) + 1\n",
    "    n = {}\n",
    "    for j in note:\n",
    "        n[j] = n.get(j,0) + 1\n",
    "\n",
    "    result = False\n",
    "    for k,v in n.items():\n",
    "        if m.get(k,0) >= v:\n",
    "            result = True\n",
    "        else:\n",
    "            result = False\n",
    "            break\n",
    "    if result:\n",
    "        print(\"Yes\")\n",
    "    else:\n",
    "        print(\"No\")"
   ]
  },
  {
   "cell_type": "code",
   "execution_count": null,
   "metadata": {},
   "outputs": [],
   "source": [
    "# https://www.hackerrank.com/challenges/two-strings/problem\n",
    "\n",
    "# Complete the twoStrings function below.\n",
    "def twoStrings(s1, s2):\n",
    "    d = {}\n",
    "    for i in s1:\n",
    "        d[i] = d.get(i,0) + 1\n",
    "    for j in s2:\n",
    "        if j in d:\n",
    "            result = \"YES\"\n",
    "            break\n",
    "        else:\n",
    "            result = \"NO\"\n",
    "    return result"
   ]
  },
  {
   "cell_type": "code",
   "execution_count": null,
   "metadata": {},
   "outputs": [],
   "source": [
    "# https://www.hackerrank.com/challenges/frequency-queries/problem"
   ]
  }
 ],
 "metadata": {
  "kernelspec": {
   "display_name": "Python 3",
   "language": "python",
   "name": "python3"
  },
  "language_info": {
   "codemirror_mode": {
    "name": "ipython",
    "version": 3
   },
   "file_extension": ".py",
   "mimetype": "text/x-python",
   "name": "python",
   "nbconvert_exporter": "python",
   "pygments_lexer": "ipython3",
   "version": "3.6.4"
  }
 },
 "nbformat": 4,
 "nbformat_minor": 2
}
