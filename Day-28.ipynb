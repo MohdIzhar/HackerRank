{
 "cells": [
  {
   "cell_type": "code",
   "execution_count": null,
   "metadata": {},
   "outputs": [],
   "source": [
    "# https://www.hackerrank.com/challenges/py-collections-deque/problem"
   ]
  },
  {
   "cell_type": "code",
   "execution_count": null,
   "metadata": {},
   "outputs": [],
   "source": [
    "# Enter your code here. Read input from STDIN. Print output to STDOUT\n",
    "from collections import deque\n",
    "\n",
    "n = int(input())\n",
    "d = deque()\n",
    "for command in range(n):\n",
    "    cmd = input().split()\n",
    "\n",
    "    if cmd[0] == \"pop\" and len(cmd) == 1:\n",
    "        d.pop()\n",
    "    elif cmd[0] == \"popleft\" and len(cmd) == 1:\n",
    "        d.popleft()\n",
    "    elif cmd[0] == \"append\":\n",
    "        d.append(cmd[1])\n",
    "    elif cmd[0] == \"appendleft\":\n",
    "        d.appendleft(cmd[1])\n",
    "    else:\n",
    "        continue\n",
    "print(\" \".join(list(d)))"
   ]
  },
  {
   "cell_type": "code",
   "execution_count": null,
   "metadata": {},
   "outputs": [],
   "source": [
    "# https://www.hackerrank.com/challenges/piling-up/problem\n",
    "\n"
   ]
  }
 ],
 "metadata": {
  "kernelspec": {
   "display_name": "Python 3",
   "language": "python",
   "name": "python3"
  },
  "language_info": {
   "codemirror_mode": {
    "name": "ipython",
    "version": 3
   },
   "file_extension": ".py",
   "mimetype": "text/x-python",
   "name": "python",
   "nbconvert_exporter": "python",
   "pygments_lexer": "ipython3",
   "version": "3.6.4"
  }
 },
 "nbformat": 4,
 "nbformat_minor": 2
}
