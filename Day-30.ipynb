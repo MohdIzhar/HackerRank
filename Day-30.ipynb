{
 "cells": [
  {
   "cell_type": "code",
   "execution_count": null,
   "metadata": {},
   "outputs": [],
   "source": [
    "# https://www.hackerrank.com/challenges/most-commons/problem\n",
    "\n",
    "\n",
    "#!/bin/python3\n",
    "\n",
    "import math\n",
    "import os\n",
    "import random\n",
    "import re\n",
    "import sys\n",
    "\n",
    "\n",
    "\n",
    "if __name__ == '__main__':\n",
    "    s = input()\n",
    "    import collections \n",
    "\n",
    "    counter = dict(collections.Counter(s))\n",
    "    d = {}\n",
    "    for char, freq in counter.items():\n",
    "        d.setdefault(freq,[]).append(char)\n",
    "    cnt = 0\n",
    "    for i in sorted(d, reverse = True):\n",
    "        elem = sorted(d.get(i))\n",
    "        if cnt != 3:\n",
    "            for j in elem:\n",
    "                if cnt != 3:\n",
    "                    print(j, i)\n",
    "                    cnt += 1\n",
    "                else:\n",
    "                    break\n",
    "        else:\n",
    "            break"
   ]
  }
 ],
 "metadata": {
  "kernelspec": {
   "display_name": "Python 3",
   "language": "python",
   "name": "python3"
  },
  "language_info": {
   "codemirror_mode": {
    "name": "ipython",
    "version": 3
   },
   "file_extension": ".py",
   "mimetype": "text/x-python",
   "name": "python",
   "nbconvert_exporter": "python",
   "pygments_lexer": "ipython3",
   "version": "3.6.4"
  }
 },
 "nbformat": 4,
 "nbformat_minor": 2
}
