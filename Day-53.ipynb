{
 "cells": [
  {
   "cell_type": "code",
   "execution_count": 6,
   "metadata": {},
   "outputs": [
    {
     "name": "stdout",
     "output_type": "stream",
     "text": [
      "False\n"
     ]
    }
   ],
   "source": [
    "# https://www.hackerrank.com/challenges/special-palindrome-again/problem\n",
    "\n",
    "s = 'momo'\n",
    "print(s[::-1] == s)"
   ]
  },
  {
   "cell_type": "code",
   "execution_count": 21,
   "metadata": {},
   "outputs": [
    {
     "name": "stdout",
     "output_type": "stream",
     "text": [
      "mnonopoo\n",
      "1 mn 2\n",
      "o\n",
      "on\n",
      "ono\n",
      "onop\n",
      "onopo\n",
      "onopoo\n",
      "2 mno 3\n",
      "n\n",
      "no\n",
      "nop\n",
      "nopo\n",
      "nopoo\n",
      "3 mnon 4\n",
      "o\n",
      "op\n",
      "opo\n",
      "opoo\n",
      "4 mnono 5\n",
      "p\n",
      "po\n",
      "poo\n",
      "5 mnonop 6\n",
      "o\n",
      "oo\n",
      "6 mnonopo 7\n",
      "o\n",
      "7 mnonopoo 8\n",
      "1\n"
     ]
    }
   ],
   "source": [
    "cnt = 0\n",
    "s = 'mnonopoo'\n",
    "print(s)\n",
    "n = len(s)\n",
    "r = ''\n",
    "for i in range(n):\n",
    "    r += s[i]\n",
    "    if r == r[i::-1]:\n",
    "        cnt += 1\n",
    "    else:\n",
    "        temp = i + 1\n",
    "        print(i,r,len(r))\n",
    "        while temp < n:\n",
    "#             if s[i : temp + 1] == s[temp : i - 1 : -1]:\n",
    "            print(s[i + 1 : temp + 1])\n",
    "            temp += 1\n",
    "    \n",
    "print(cnt)"
   ]
  },
  {
   "cell_type": "code",
   "execution_count": 8,
   "metadata": {},
   "outputs": [
    {
     "name": "stdout",
     "output_type": "stream",
     "text": [
      "asasd\n",
      "['s', 'sas', 's', 'd']\n",
      "6\n"
     ]
    }
   ],
   "source": [
    "cnt = 0\n",
    "s = 'asasd'\n",
    "print(s)\n",
    "n = len(s)\n",
    "r = ''\n",
    "l = []\n",
    "for i in range(n):\n",
    "    r += s[i]\n",
    "    if r == r[i::-1]:\n",
    "        cnt += 1\n",
    "    else:\n",
    "        temp = i\n",
    "        while temp < n:\n",
    "            if s[i : temp + 1] == s[temp : i - 1 : -1]:\n",
    "                l.append(s[i : temp + 1])\n",
    "                cnt += 1\n",
    "            temp += 1\n",
    "print(l)\n",
    "print(cnt)"
   ]
  },
  {
   "cell_type": "code",
   "execution_count": 10,
   "metadata": {},
   "outputs": [
    {
     "name": "stdout",
     "output_type": "stream",
     "text": [
      "abcbaba\n",
      "a\n",
      "abcba\n",
      "['b', 'bcb', 'c', 'b', 'bab', 'b', 'a']\n",
      "9\n"
     ]
    }
   ],
   "source": [
    "cnt = 0\n",
    "s = 'abcbaba'\n",
    "print(s)\n",
    "n = len(s)\n",
    "r = ''\n",
    "l = []\n",
    "for i in range(n):\n",
    "    r += s[i]\n",
    "    if r == r[i::-1]:\n",
    "        cnt += 1\n",
    "    else:\n",
    "        temp = i\n",
    "        while temp < n:\n",
    "            if s[i : temp + 1] == s[temp : i - 1 : -1]:\n",
    "                l.append(s[i : temp + 1])\n",
    "                cnt += 1\n",
    "            temp += 1\n",
    "print(l)\n",
    "print(cnt)"
   ]
  },
  {
   "cell_type": "code",
   "execution_count": 11,
   "metadata": {},
   "outputs": [
    {
     "name": "stdout",
     "output_type": "stream",
     "text": [
      "aaaa\n",
      "[]\n",
      "4\n"
     ]
    }
   ],
   "source": [
    "cnt = 0\n",
    "s = 'aaaa'\n",
    "print(s)\n",
    "n = len(s)\n",
    "r = ''\n",
    "l = []\n",
    "for i in range(n):\n",
    "    r += s[i]\n",
    "    if r == r[i::-1]:\n",
    "        cnt += 1\n",
    "    else:\n",
    "        temp = i\n",
    "        while temp < n:\n",
    "            if s[i : temp + 1] == s[temp : i - 1 : -1]:\n",
    "                l.append(s[i : temp + 1])\n",
    "                cnt += 1\n",
    "            temp += 1\n",
    "print(l)\n",
    "print(cnt)"
   ]
  },
  {
   "cell_type": "code",
   "execution_count": 25,
   "metadata": {},
   "outputs": [
    {
     "name": "stdout",
     "output_type": "stream",
     "text": [
      "asasd\n",
      "['a', 'asa', 's', 'sas', 'a', 's', 'd']\n",
      "7\n"
     ]
    }
   ],
   "source": [
    "cnt = 0\n",
    "s = 'asasd'\n",
    "print(s)\n",
    "n = len(s)\n",
    "l = []\n",
    "for i in range(n):    \n",
    "    temp = i\n",
    "    while temp < n:\n",
    "        if s[i: temp + 1] == \"\".join(reversed(s[i : temp + 1])):\n",
    "#             print(s[i : temp + 1])\n",
    "            l.append(s[i : temp + 1])\n",
    "            cnt += 1\n",
    "        temp += 1\n",
    "print(l)\n",
    "print(cnt)"
   ]
  },
  {
   "cell_type": "code",
   "execution_count": 26,
   "metadata": {},
   "outputs": [
    {
     "name": "stdout",
     "output_type": "stream",
     "text": [
      "10\n",
      "6\n"
     ]
    }
   ],
   "source": [
    "cnt = 0\n",
    "s = 'aaaa'\n",
    "n = len(s)\n",
    "\n",
    "if len(set(s)) == 1:\n",
    "    print(n*(n+1)//2)\n",
    "    \n",
    "for i in range(n):    \n",
    "    temp = i\n",
    "    while temp < n:\n",
    "        sub = s[i: temp + 1]\n",
    "        mid = len(sub) // 2\n",
    "        if sub[:mid] == sub[mid+1:]:\n",
    "            cnt += 1\n",
    "        temp += 1\n",
    "print(cnt)"
   ]
  },
  {
   "cell_type": "code",
   "execution_count": null,
   "metadata": {},
   "outputs": [],
   "source": [
    "############\n",
    "# SOLUTION #\n",
    "############\n",
    "\n",
    "cnt = 0\n",
    "s = 'aaaa'\n",
    "print(s)\n",
    "n = len(s)\n",
    "l = []\n",
    "for i in range(n):    \n",
    "    temp = i\n",
    "    while temp < n:\n",
    "        sub = s[i: temp + 1]\n",
    "        mid = len(sub) // 2\n",
    "        # if s[i: temp + 1] == \"\".join(reversed(s[i : temp + 1])):\n",
    "        if sub[:mid] == sub[mid+1:]:\n",
    "            print(sub)\n",
    "            l.append(sub)\n",
    "            cnt += 1\n",
    "        temp += 1\n",
    "print(l)\n",
    "print(cnt)"
   ]
  }
 ],
 "metadata": {
  "kernelspec": {
   "display_name": "Python 3",
   "language": "python",
   "name": "python3"
  },
  "language_info": {
   "codemirror_mode": {
    "name": "ipython",
    "version": 3
   },
   "file_extension": ".py",
   "mimetype": "text/x-python",
   "name": "python",
   "nbconvert_exporter": "python",
   "pygments_lexer": "ipython3",
   "version": "3.6.4"
  }
 },
 "nbformat": 4,
 "nbformat_minor": 2
}
