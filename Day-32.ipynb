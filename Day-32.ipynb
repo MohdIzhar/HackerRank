{
 "cells": [
  {
   "cell_type": "code",
   "execution_count": null,
   "metadata": {},
   "outputs": [],
   "source": [
    "# https://www.hackerrank.com/challenges/iterables-and-iterators/problem\n",
    "\n",
    "\n",
    "# Enter your code here. Read input from STDIN. Print output to STDOUT\n",
    "import itertools\n",
    "\n",
    "n = int(input())\n",
    "s = input().strip().split()\n",
    "k = int(input())\n",
    "\n",
    "cmb = tuple(itertools.combinations(s,k))\n",
    "\n",
    "cnt = 0\n",
    "\n",
    "for c in cmb:\n",
    "    if 'a' in c:\n",
    "        cnt += 1\n",
    "\n",
    "print(cnt / len(cmb))"
   ]
  }
 ],
 "metadata": {
  "kernelspec": {
   "display_name": "Python 3",
   "language": "python",
   "name": "python3"
  },
  "language_info": {
   "codemirror_mode": {
    "name": "ipython",
    "version": 3
   },
   "file_extension": ".py",
   "mimetype": "text/x-python",
   "name": "python",
   "nbconvert_exporter": "python",
   "pygments_lexer": "ipython3",
   "version": "3.6.4"
  }
 },
 "nbformat": 4,
 "nbformat_minor": 2
}
