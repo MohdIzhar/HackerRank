{
 "cells": [
  {
   "cell_type": "code",
   "execution_count": null,
   "metadata": {},
   "outputs": [],
   "source": [
    "# https://www.hackerrank.com/challenges/capitalize/problem\n",
    "for x in s[:].split():\n",
    "        s = s.replace(x, x.capitalize())\n",
    "    return s\n",
    "\n",
    "mine\n",
    "\n",
    "return s.title()"
   ]
  },
  {
   "cell_type": "code",
   "execution_count": null,
   "metadata": {},
   "outputs": [],
   "source": [
    "# https://www.hackerrank.com/challenges/the-minion-game/problem\n",
    "\n",
    "# This code passed 11 test cases and 3 cases terminated due to time limit exceeded\n",
    "\n",
    "def minion_game(string):\n",
    "    # your code goes here\n",
    "    kevin = 0\n",
    "    stuart = 0\n",
    "\n",
    "    for i in range(len(string)):\n",
    "        if string[i] not in ['A','E','I','O','U']:\n",
    "            stuart += len(string[i:])\n",
    "        else:\n",
    "            kevin += len(string[i:])\n",
    "    if kevin > stuart:\n",
    "        print(\"Kevin\",kevin)\n",
    "    elif stuart > kevin:\n",
    "        print(\"Stuart\",stuart)\n",
    "    else:\n",
    "        print(\"Draw\")\n",
    "\n",
    "\n",
    "\n",
    "    \n",
    "\n",
    "if __name__ == '__main__':\n",
    "    s = input()\n",
    "    minion_game(s)\n",
    "    \n",
    "########################################## This SOlution work because of slicing took long time to execute #######################\n",
    "def minion_game(string):\n",
    "    # your code goes here\n",
    "    kevin = 0\n",
    "    stuart = 0\n",
    "\n",
    "    for i in range(len(string)):\n",
    "        if string[i] not in ['A','E','I','O','U']:\n",
    "            stuart += len(string) - i\n",
    "        else:\n",
    "            kevin += len(string) - i\n",
    "    if kevin > stuart:\n",
    "        print(\"Kevin\",kevin)\n",
    "    elif stuart > kevin:\n",
    "        print(\"Stuart\",stuart)\n",
    "    else:\n",
    "        print(\"Draw\")\n",
    "\n",
    "\n",
    "\n",
    "    \n",
    "\n",
    "if __name__ == '__main__':"
   ]
  },
  {
   "cell_type": "code",
   "execution_count": null,
   "metadata": {},
   "outputs": [],
   "source": [
    "# https://www.hackerrank.com/challenges/validating-the-phone-number/\n",
    "\n",
    "# Enter your code here. Read input from STDIN. Print output to STDOUT\n",
    "import re\n",
    "\n",
    "def validate(number):\n",
    "    for i in range(len(number)):\n",
    "        if number[i][0] in ['7','8','9'] and len(number[i]) == 10 and not re.search(\"[A-Z]\",number[i]):\n",
    "            print(\"YES\")\n",
    "        else:\n",
    "            print(\"NO\")\n",
    "        \n",
    "if __name__ == '__main__':\n",
    "    n = int(input())\n",
    "    m = []\n",
    "    for i in range(n):\n",
    "        num = str(input())\n",
    "        m.append(num)\n",
    "    validate(m)"
   ]
  }
 ],
 "metadata": {
  "kernelspec": {
   "display_name": "Python 3",
   "language": "python",
   "name": "python3"
  },
  "language_info": {
   "codemirror_mode": {
    "name": "ipython",
    "version": 3
   },
   "file_extension": ".py",
   "mimetype": "text/x-python",
   "name": "python",
   "nbconvert_exporter": "python",
   "pygments_lexer": "ipython3",
   "version": "3.6.4"
  }
 },
 "nbformat": 4,
 "nbformat_minor": 2
}
