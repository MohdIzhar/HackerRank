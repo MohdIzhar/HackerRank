{
 "cells": [
  {
   "cell_type": "code",
   "execution_count": null,
   "metadata": {},
   "outputs": [],
   "source": [
    "# https://www.hackerrank.com/challenges/library-fine/problem\n",
    "\n",
    "d = d1 - d2\n",
    "m = m1 - m2\n",
    "y = y1 - y2\n",
    "  \n",
    "if d > 0 and m == 0 and y == 0:\n",
    "    return 15 * d\n",
    "elif m > 0 and y == 0:\n",
    "    return 500 * m\n",
    "elif y > 0:\n",
    "    return 10000 * y\n",
    "elif y < 0 or (m < 0 and y == 0) or (d <= 0 and m <= 0 and y <= 0):\n",
    "    return 0"
   ]
  },
  {
   "cell_type": "code",
   "execution_count": null,
   "metadata": {},
   "outputs": [],
   "source": [
    "# https://www.hackerrank.com/challenges/cut-the-sticks/problem\n",
    "\n",
    "# Complete the cutTheSticks function below.\n",
    "def cutTheSticks(arr):\n",
    "    length = []\n",
    "    while arr:\n",
    "        length.append(len(arr))\n",
    "        m = min(arr)\n",
    "        for i in range(len(arr)):\n",
    "            arr[i] = arr[i] - m\n",
    "        while(arr.count(0)):\n",
    "            arr.remove(0)\n",
    "        \n",
    "    return length"
   ]
  }
 ],
 "metadata": {
  "kernelspec": {
   "display_name": "Python 3",
   "language": "python",
   "name": "python3"
  },
  "language_info": {
   "codemirror_mode": {
    "name": "ipython",
    "version": 3
   },
   "file_extension": ".py",
   "mimetype": "text/x-python",
   "name": "python",
   "nbconvert_exporter": "python",
   "pygments_lexer": "ipython3",
   "version": "3.6.4"
  }
 },
 "nbformat": 4,
 "nbformat_minor": 2
}
