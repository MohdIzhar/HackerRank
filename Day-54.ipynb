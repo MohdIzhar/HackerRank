{
 "cells": [
  {
   "cell_type": "code",
   "execution_count": null,
   "metadata": {},
   "outputs": [],
   "source": [
    "# https://www.hackerrank.com/challenges/special-palindrome-again/problem\n",
    "\n",
    "cnt = 0\n",
    "n = len(s)\n",
    "\n",
    "if len(set(s)) == 1:\n",
    "    print(n*(n+1)//2)\n",
    "else:\n",
    "    for i in range(n):    \n",
    "        temp = i\n",
    "        while temp < n:\n",
    "            sub = s[i: temp + 1]\n",
    "            mid = len(sub) // 2\n",
    "            if sub[:mid] == sub[mid+1:]:\n",
    "                cnt += 1\n",
    "            temp += 1\n",
    "    print(cnt)"
   ]
  },
  {
   "cell_type": "code",
   "execution_count": null,
   "metadata": {},
   "outputs": [],
   "source": [
    "s = 'aaaa'\n",
    "n = len(s)\n",
    "cnt = n\n",
    "\n",
    "if len(set(s)) == 1:\n",
    "    print(n*(n+1)//2)\n",
    "else:\n",
    "    for i in range(n-1):    \n",
    "        temp = i + 1\n",
    "        while temp < n:\n",
    "            sub = s[i: temp + 1]\n",
    "            mid = len(sub) // 2\n",
    "            if (len(sub) % 2 != 0) and sub[:mid] == sub[mid+1:]:\n",
    "                cnt += 1\n",
    "            elif len(set(sub)) == 1:\n",
    "                cnt += 1\n",
    "            temp += 1\n",
    "    print(cnt)"
   ]
  },
  {
   "cell_type": "code",
   "execution_count": null,
   "metadata": {},
   "outputs": [],
   "source": [
    "# FINAL SOLUTION\n",
    "\n",
    "# Complete the substrCount function below.\n",
    "def substrCount(n, s):\n",
    "    cnt = 0\n",
    "    if len(set(s)) == 1:\n",
    "        return (n*(n+1)//2)\n",
    "   \n",
    "    for i in range(n):    \n",
    "        temp = i \n",
    "        while temp < n and s[i] == s[temp]:\n",
    "            temp += 1\n",
    "            cnt += 1\n",
    "        if s[i:temp] == s[temp + 1: 2 * temp - i + 1] and 2 * temp - i <= n - 1:\n",
    "            cnt += 1\n",
    "            \n",
    "return cnt"
   ]
  }
 ],
 "metadata": {
  "kernelspec": {
   "display_name": "Python 3",
   "language": "python",
   "name": "python3"
  },
  "language_info": {
   "codemirror_mode": {
    "name": "ipython",
    "version": 3
   },
   "file_extension": ".py",
   "mimetype": "text/x-python",
   "name": "python",
   "nbconvert_exporter": "python",
   "pygments_lexer": "ipython3",
   "version": "3.6.4"
  }
 },
 "nbformat": 4,
 "nbformat_minor": 2
}
