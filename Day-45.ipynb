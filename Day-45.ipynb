{
 "cells": [
  {
   "cell_type": "code",
   "execution_count": null,
   "metadata": {},
   "outputs": [],
   "source": [
    "# https://www.hackerrank.com/challenges/introduction-to-regex/problem\n",
    "\n",
    "# Enter your code here. Read input from STDIN. Print output to STDOUT\n",
    "import re\n",
    "for i in range(int(input())):\n",
    "    # result  = re.search(r\"^[+-]?\\d*\\.\\d+$\",input())\n",
    "    print(bool(re.search(r\"^[+-]?\\d*\\.\\d+$\",input())))\n",
    "    # if result:\n",
    "    #     print(\"True\")\n",
    "    # else:\n",
    "    #     print(\"False\")"
   ]
  },
  {
   "cell_type": "code",
   "execution_count": null,
   "metadata": {},
   "outputs": [],
   "source": [
    "# https://www.hackerrank.com/challenges/re-split/problem\n",
    "\n",
    "regex_pattern = r\"[,.]\"\t# Do not delete 'r'.\n",
    "\n",
    "import re\n",
    "print(\"\\n\".join(re.split(regex_pattern, input())))"
   ]
  },
  {
   "cell_type": "code",
   "execution_count": null,
   "metadata": {},
   "outputs": [],
   "source": [
    "# https://www.hackerrank.com/challenges/words-score/problem\n",
    "\n",
    "# debugging challenge"
   ]
  },
  {
   "cell_type": "code",
   "execution_count": null,
   "metadata": {},
   "outputs": [],
   "source": [
    "# https://www.hackerrank.com/challenges/strange-advertising/problem\n",
    "\n",
    "# Complete the viralAdvertising function below.\n",
    "def viralAdvertising(n):\n",
    "    total_likes = 0\n",
    "    share = 5\n",
    "    for _ in range(n):\n",
    "        like = math.floor(share/2)\n",
    "        share = 3 * like\n",
    "        total_likes += like\n",
    "\n",
    "    return total_likes"
   ]
  },
  {
   "cell_type": "code",
   "execution_count": null,
   "metadata": {},
   "outputs": [],
   "source": [
    "# https://www.hackerrank.com/challenges/frequency-queries\n",
    "\n",
    "# NEED Correction\n",
    "\n",
    "#  Complete the freqQuery function below.\n",
    "def freqQuery(queries):\n",
    "    d = {}\n",
    "    result = []\n",
    "    for q in range(len(queries)):\n",
    "        operation = queries[q][0]\n",
    "        query = queries[q][1]\n",
    "        if operation == 1:\n",
    "            d[query] = d.get(query,0) + 1\n",
    "        \n",
    "        elif operation == 2:\n",
    "            d[query] = d.get(query,0) - 1\n",
    "\n",
    "        elif operation == 3:\n",
    "            if query in d.values():\n",
    "                result.append(1)\n",
    "            else:\n",
    "                result.append(0)\n",
    "        \n",
    "    return result"
   ]
  }
 ],
 "metadata": {
  "kernelspec": {
   "display_name": "Python 3",
   "language": "python",
   "name": "python3"
  },
  "language_info": {
   "codemirror_mode": {
    "name": "ipython",
    "version": 3
   },
   "file_extension": ".py",
   "mimetype": "text/x-python",
   "name": "python",
   "nbconvert_exporter": "python",
   "pygments_lexer": "ipython3",
   "version": "3.6.4"
  }
 },
 "nbformat": 4,
 "nbformat_minor": 2
}
