{
 "cells": [
  {
   "cell_type": "code",
   "execution_count": null,
   "metadata": {},
   "outputs": [],
   "source": [
    "# https://www.hackerrank.com/challenges/py-collections-namedtuple/problem\n",
    "\n",
    "# Enter your code here. Read input from STDIN. Print output to STDOUT\n",
    "from collections import namedtuple\n",
    "n,student, total_marks = int(input()), namedtuple('Student',input().split()), 0\n",
    "for i in range(n): marks = student(*input().split()); total_marks = total_marks + int(marks.MARKS)\n",
    "print('{:.2f}'.format(total_marks/n))"
   ]
  },
  {
   "cell_type": "code",
   "execution_count": null,
   "metadata": {},
   "outputs": [],
   "source": [
    "# https://www.hackerrank.com/challenges/bon-appetit/problem\n",
    "\n",
    "#!/bin/python3\n",
    "\n",
    "import math\n",
    "import os\n",
    "import random\n",
    "import re\n",
    "import sys\n",
    "\n",
    "# Complete the bonAppetit function below.\n",
    "def bonAppetit(bill, k, b):\n",
    "    bill.remove(bill[k])\n",
    "    Anna_eat = sum(bill) // 2\n",
    "    if Anna_eat - b == 0:\n",
    "        print(\"Bon Appetit\")\n",
    "    else:\n",
    "        print(b - Anna_eat)\n",
    "\n",
    "\n",
    "if __name__ == '__main__':\n",
    "    nk = input().rstrip().split()\n",
    "\n",
    "    n = int(nk[0])\n",
    "\n",
    "    k = int(nk[1])\n",
    "\n",
    "    bill = list(map(int, input().rstrip().split()))\n",
    "\n",
    "    b = int(input().strip())\n",
    "\n",
    "    bonAppetit(bill, k, b)\n"
   ]
  }
 ],
 "metadata": {
  "kernelspec": {
   "display_name": "Python 3",
   "language": "python",
   "name": "python3"
  },
  "language_info": {
   "codemirror_mode": {
    "name": "ipython",
    "version": 3
   },
   "file_extension": ".py",
   "mimetype": "text/x-python",
   "name": "python",
   "nbconvert_exporter": "python",
   "pygments_lexer": "ipython3",
   "version": "3.6.4"
  }
 },
 "nbformat": 4,
 "nbformat_minor": 2
}
