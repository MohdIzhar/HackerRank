{
 "cells": [
  {
   "cell_type": "code",
   "execution_count": null,
   "metadata": {},
   "outputs": [],
   "source": [
    "# https://www.hackerrank.com/challenges/calendar-module/problem\n",
    "\n",
    "# Enter your code here. Read input from STDIN. Print output to STDOUT\n",
    "import calendar\n",
    "\n",
    "date_input = list(map(int,input().strip().split()))\n",
    "mon,day,year = date_input[0], date_input[1], date_input[2]\n",
    "\n",
    "day_num = calendar.weekday(year,mon,day)\n",
    "\n",
    "days = { 0:\"MONDAY\", 1:\"TUESDAY\", 2:\"WEDNESDAY\", 3:\"THURSDAY\", 4:\"FRIDAY\", 5:\"SATURDAY\",6:\"SUNDAY\"}\n",
    "\n",
    "print(days.get(day_num))\n"
   ]
  }
 ],
 "metadata": {
  "kernelspec": {
   "display_name": "Python 3",
   "language": "python",
   "name": "python3"
  },
  "language_info": {
   "codemirror_mode": {
    "name": "ipython",
    "version": 3
   },
   "file_extension": ".py",
   "mimetype": "text/x-python",
   "name": "python",
   "nbconvert_exporter": "python",
   "pygments_lexer": "ipython3",
   "version": "3.6.4"
  }
 },
 "nbformat": 4,
 "nbformat_minor": 2
}
