{
 "cells": [
  {
   "cell_type": "code",
   "execution_count": null,
   "metadata": {},
   "outputs": [],
   "source": [
    "# https://www.hackerrank.com/challenges/minimum-swaps-2/\n",
    "\n",
    " while i < len(arr) // 2:\n",
    "        for j in range(len(arr)):\n",
    "            if j < len(arr) - 3:\n",
    "                if arr[j] > arr[j+1] and arr[j] > arr[j+2] and arr[j] > arr[j+3]:\n",
    "                    cnt += 1\n",
    "                    arr[j], arr[j+3] = arr[j+3], arr[j]\n",
    "                        \n",
    "            if j < len(arr) - 2:\n",
    "                if arr[j] > arr[j+1] and arr[j] > arr[j+2]:\n",
    "                    cnt += 1\n",
    "                    arr[j], arr[j+2] = arr[j+2], arr[j]\n",
    "        \n",
    "                elif arr[j] > arr[j+1] and arr[j+1] < arr[j+2]:\n",
    "                    cnt += 1\n",
    "                    arr[j], arr[j+1] = arr[j+1], arr[j]\n",
    "            \n",
    "            if j < len(arr) - 1:\n",
    "                if arr[j] > arr[j+1]:\n",
    "                    cnt += 1\n",
    "                    arr[j], arr[j+1] = arr[j+1], arr[j]\n",
    "        i += 1\n",
    "        \n",
    "    return cnt"
   ]
  },
  {
   "cell_type": "code",
   "execution_count": null,
   "metadata": {},
   "outputs": [],
   "source": []
  }
 ],
 "metadata": {
  "kernelspec": {
   "display_name": "Python 3",
   "language": "python",
   "name": "python3"
  },
  "language_info": {
   "codemirror_mode": {
    "name": "ipython",
    "version": 3
   },
   "file_extension": ".py",
   "mimetype": "text/x-python",
   "name": "python",
   "nbconvert_exporter": "python",
   "pygments_lexer": "ipython3",
   "version": "3.6.4"
  }
 },
 "nbformat": 4,
 "nbformat_minor": 2
}
