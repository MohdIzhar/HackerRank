{
 "cells": [
  {
   "cell_type": "code",
   "execution_count": null,
   "metadata": {},
   "outputs": [],
   "source": [
    "# https://www.hackerrank.com/challenges/extra-long-factorials/problem\n",
    "\n",
    "def extraLongFactorials(n):\n",
    "    fact = 1\n",
    "    if n == 0 or n == 1:\n",
    "        fact = 1\n",
    "        \n",
    "    for i in range(1,n+1):\n",
    "        fact = fact * i\n",
    "    \n",
    "    print(fact)\n"
   ]
  },
  {
   "cell_type": "code",
   "execution_count": null,
   "metadata": {},
   "outputs": [],
   "source": [
    "# https://www.hackerrank.com/challenges/append-and-delete/problem\n",
    "\n",
    "# 4 CASES FAILED\n",
    "# Complete the appendAndDelete function below.\n",
    "def appendAndDelete(s, t, k):\n",
    "    if abs(len(s) - len(t)) > k:\n",
    "        return \"No\"\n",
    "    elif len(s) == len(t) and k - len(s) == k - len(t):\n",
    "        return \"Yes\"\n",
    "    else:\n",
    "        sl = list(s)\n",
    "        tl = list(t)\n",
    "        diff = 0\n",
    "        for c in set(s+t):\n",
    "            diff += abs(sl.count(c) - tl.count(c))\n",
    "        if diff < k:\n",
    "            return \"Yes\""
   ]
  }
 ],
 "metadata": {
  "kernelspec": {
   "display_name": "Python 3",
   "language": "python",
   "name": "python3"
  },
  "language_info": {
   "codemirror_mode": {
    "name": "ipython",
    "version": 3
   },
   "file_extension": ".py",
   "mimetype": "text/x-python",
   "name": "python",
   "nbconvert_exporter": "python",
   "pygments_lexer": "ipython3",
   "version": "3.6.4"
  }
 },
 "nbformat": 4,
 "nbformat_minor": 2
}
