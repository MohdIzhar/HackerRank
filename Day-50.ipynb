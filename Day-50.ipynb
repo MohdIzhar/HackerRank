{
 "cells": [
  {
   "cell_type": "code",
   "execution_count": null,
   "metadata": {},
   "outputs": [],
   "source": [
    "# https://www.hackerrank.com/challenges/ctci-making-anagrams/problem\n",
    "\n",
    "common_element = tuple(set(a).intersection(set(b)))\n",
    "t = len(a) + len(b)\n",
    "c = 0\n",
    "d_a = {}\n",
    "d_b = {}\n",
    "for i in a:\n",
    "    d_a[i] = d_a.get(i,0) + 1\n",
    "for i in b:\n",
    "    d_b[i] = d_b.get(i,0) + 1\n",
    "\n",
    "for ce in common_element:\n",
    "    c += min(d_a.get(ce), d_b.get(ce))\n",
    "\n",
    "print (t - 2 * c)"
   ]
  }
 ],
 "metadata": {
  "kernelspec": {
   "display_name": "Python 3",
   "language": "python",
   "name": "python3"
  },
  "language_info": {
   "codemirror_mode": {
    "name": "ipython",
    "version": 3
   },
   "file_extension": ".py",
   "mimetype": "text/x-python",
   "name": "python",
   "nbconvert_exporter": "python",
   "pygments_lexer": "ipython3",
   "version": "3.6.4"
  }
 },
 "nbformat": 4,
 "nbformat_minor": 2
}
