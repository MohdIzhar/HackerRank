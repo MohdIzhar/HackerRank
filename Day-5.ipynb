{
 "cells": [
  {
   "cell_type": "code",
   "execution_count": null,
   "metadata": {},
   "outputs": [],
   "source": [
    "# The first line contains two space separated integers, N and M.\n",
    "# The next N lines contains M space separated integers of array A.\n",
    "# The following N lines contains M space separated integers of array B.\n",
    "\n",
    "# Sample Input\n",
    "\n",
    "# 1 4\n",
    "# 1 2 3 4\n",
    "# 5 6 7 8\n",
    "# Sample Output\n",
    "\n",
    "# [[ 6  8 10 12]]\n",
    "# [[-4 -4 -4 -4]]\n",
    "# [[ 5 12 21 32]]\n",
    "# [[0 0 0 0]]\n",
    "# [[1 2 3 4]]\n",
    "# [[    1    64  2187 65536]] \n",
    "import numpy\n",
    "\n",
    "import numpy\n",
    "\n",
    "x = numpy.array([input().strip().split(' ')], dtype=int)\n",
    "a = numpy.array([input().strip().split(' ') for i in range(int(x[0][0]))], dtype=int)\n",
    "b = numpy.array([input().strip().split(' ') for i in range(int(x[0][0]))], dtype=int)\n",
    "\n",
    "print(numpy.add(a,b))\n",
    "print(numpy.subtract(a, b))\n",
    "print(numpy.multiply(a, b))\n",
    "print(numpy.floor_divide(a,b))\n",
    "print(numpy.mod(a, b))\n",
    "print(numpy.power(a, b))"
   ]
  },
  {
   "cell_type": "code",
   "execution_count": null,
   "metadata": {},
   "outputs": [],
   "source": []
  }
 ],
 "metadata": {
  "kernelspec": {
   "display_name": "Python 3",
   "language": "python",
   "name": "python3"
  },
  "language_info": {
   "codemirror_mode": {
    "name": "ipython",
    "version": 3
   },
   "file_extension": ".py",
   "mimetype": "text/x-python",
   "name": "python",
   "nbconvert_exporter": "python",
   "pygments_lexer": "ipython3",
   "version": "3.6.4"
  }
 },
 "nbformat": 4,
 "nbformat_minor": 2
}
