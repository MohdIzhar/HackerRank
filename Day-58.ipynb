{
 "cells": [
  {
   "cell_type": "code",
   "execution_count": null,
   "metadata": {},
   "outputs": [],
   "source": [
    "# https://www.hackerrank.com/challenges/append-and-delete/problem\n",
    "# All Cases Passed\n",
    "# Complete the appendAndDelete function below.\n",
    "def appendAndDelete(s, t, k):\n",
    "    if abs(len(s) - len(t)) > k:\n",
    "        return \"No\"\n",
    "    elif s == t and (k > len(s) or k % 2 == 0):\n",
    "        return \"Yes\"\n",
    "    e = False\n",
    "    for i in range(min(len(s),len(t))):\n",
    "        if s[i] == t[i]:\n",
    "            e = True\n",
    "        else:\n",
    "            if (abs(len(s) - i - k) >= len(t) - i) or (abs(len(t) - i - k) >= len(s) - i):\n",
    "                return \"Yes\"\n",
    "            else:\n",
    "                return \"No\"\n",
    "    if e:\n",
    "        diff = abs(len(s) - len(t))\n",
    "        if k % diff == 0 and diff > 1:\n",
    "            return 'Yes'\n",
    "        elif set(s) == set(t) and k > diff:\n",
    "            return 'Yes'\n",
    "        else:\n",
    "            return 'No'\n",
    "        "
   ]
  },
  {
   "cell_type": "code",
   "execution_count": null,
   "metadata": {},
   "outputs": [],
   "source": [
    "# https://www.hackerrank.com/challenges/equality-in-a-array/problem\n",
    "\n",
    "# Complete the equalizeArray function below.\n",
    "def equalizeArray(arr):\n",
    "    m = [arr.count(i) for i in arr]\n",
    "    return len(arr) - max(m)"
   ]
  }
 ],
 "metadata": {
  "kernelspec": {
   "display_name": "Python 3",
   "language": "python",
   "name": "python3"
  },
  "language_info": {
   "codemirror_mode": {
    "name": "ipython",
    "version": 3
   },
   "file_extension": ".py",
   "mimetype": "text/x-python",
   "name": "python",
   "nbconvert_exporter": "python",
   "pygments_lexer": "ipython3",
   "version": "3.6.4"
  }
 },
 "nbformat": 4,
 "nbformat_minor": 2
}
